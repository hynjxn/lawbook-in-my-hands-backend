{
  "cells": [
    {
      "cell_type": "markdown",
      "metadata": {
        "id": "view-in-github",
        "colab_type": "text"
      },
      "source": [
        "<a href=\"https://colab.research.google.com/github/minah9999/lawbook-in-my-hands-backend/blob/develop/Doc2vec_model.ipynb\" target=\"_parent\"><img src=\"https://colab.research.google.com/assets/colab-badge.svg\" alt=\"Open In Colab\"/></a>"
      ]
    },
    {
      "cell_type": "code",
      "execution_count": null,
      "metadata": {
        "colab": {
          "base_uri": "https://localhost:8080/"
        },
        "id": "M_qRfpF0ODa7",
        "outputId": "fd91a1e5-3fa2-4761-f050-fc565eead6ea"
      },
      "outputs": [
        {
          "output_type": "stream",
          "name": "stdout",
          "text": [
            "Looking in indexes: https://pypi.org/simple, https://us-python.pkg.dev/colab-wheels/public/simple/\n",
            "Collecting konlpy\n",
            "  Downloading konlpy-0.6.0-py2.py3-none-any.whl (19.4 MB)\n",
            "\u001b[K     |████████████████████████████████| 19.4 MB 1.2 MB/s \n",
            "\u001b[?25hCollecting JPype1>=0.7.0\n",
            "  Downloading JPype1-1.4.0-cp37-cp37m-manylinux_2_5_x86_64.manylinux1_x86_64.whl (453 kB)\n",
            "\u001b[K     |████████████████████████████████| 453 kB 58.4 MB/s \n",
            "\u001b[?25hRequirement already satisfied: lxml>=4.1.0 in /usr/local/lib/python3.7/dist-packages (from konlpy) (4.9.1)\n",
            "Requirement already satisfied: numpy>=1.6 in /usr/local/lib/python3.7/dist-packages (from konlpy) (1.21.6)\n",
            "Requirement already satisfied: typing-extensions in /usr/local/lib/python3.7/dist-packages (from JPype1>=0.7.0->konlpy) (4.1.1)\n",
            "Installing collected packages: JPype1, konlpy\n",
            "Successfully installed JPype1-1.4.0 konlpy-0.6.0\n"
          ]
        }
      ],
      "source": [
        "# 라이브러리 임포트\n",
        "from gensim.models import doc2vec\n",
        "from gensim.models.doc2vec import TaggedDocument\n",
        "import pandas as pd\n",
        "\n",
        "!pip install konlpy\n",
        "from konlpy.tag import Komoran"
      ]
    },
    {
      "cell_type": "code",
      "source": [
        "from google.colab import drive\n",
        "drive.mount('/content/drive')"
      ],
      "metadata": {
        "colab": {
          "base_uri": "https://localhost:8080/",
          "height": 337
        },
        "id": "klmBuN6RJcbG",
        "outputId": "ce5930d2-8177-4cd9-bdd3-07abec48c20b"
      },
      "execution_count": null,
      "outputs": [
        {
          "output_type": "error",
          "ename": "MessageError",
          "evalue": "ignored",
          "traceback": [
            "\u001b[0;31m---------------------------------------------------------------------------\u001b[0m",
            "\u001b[0;31mMessageError\u001b[0m                              Traceback (most recent call last)",
            "\u001b[0;32m<ipython-input-2-d5df0069828e>\u001b[0m in \u001b[0;36m<module>\u001b[0;34m\u001b[0m\n\u001b[1;32m      1\u001b[0m \u001b[0;32mfrom\u001b[0m \u001b[0mgoogle\u001b[0m\u001b[0;34m.\u001b[0m\u001b[0mcolab\u001b[0m \u001b[0;32mimport\u001b[0m \u001b[0mdrive\u001b[0m\u001b[0;34m\u001b[0m\u001b[0;34m\u001b[0m\u001b[0m\n\u001b[0;32m----> 2\u001b[0;31m \u001b[0mdrive\u001b[0m\u001b[0;34m.\u001b[0m\u001b[0mmount\u001b[0m\u001b[0;34m(\u001b[0m\u001b[0;34m'/content/drive'\u001b[0m\u001b[0;34m)\u001b[0m\u001b[0;34m\u001b[0m\u001b[0;34m\u001b[0m\u001b[0m\n\u001b[0m",
            "\u001b[0;32m/usr/local/lib/python3.7/dist-packages/google/colab/drive.py\u001b[0m in \u001b[0;36mmount\u001b[0;34m(mountpoint, force_remount, timeout_ms)\u001b[0m\n\u001b[1;32m    103\u001b[0m       \u001b[0mforce_remount\u001b[0m\u001b[0;34m=\u001b[0m\u001b[0mforce_remount\u001b[0m\u001b[0;34m,\u001b[0m\u001b[0;34m\u001b[0m\u001b[0;34m\u001b[0m\u001b[0m\n\u001b[1;32m    104\u001b[0m       \u001b[0mtimeout_ms\u001b[0m\u001b[0;34m=\u001b[0m\u001b[0mtimeout_ms\u001b[0m\u001b[0;34m,\u001b[0m\u001b[0;34m\u001b[0m\u001b[0;34m\u001b[0m\u001b[0m\n\u001b[0;32m--> 105\u001b[0;31m       ephemeral=True)\n\u001b[0m\u001b[1;32m    106\u001b[0m \u001b[0;34m\u001b[0m\u001b[0m\n\u001b[1;32m    107\u001b[0m \u001b[0;34m\u001b[0m\u001b[0m\n",
            "\u001b[0;32m/usr/local/lib/python3.7/dist-packages/google/colab/drive.py\u001b[0m in \u001b[0;36m_mount\u001b[0;34m(mountpoint, force_remount, timeout_ms, ephemeral)\u001b[0m\n\u001b[1;32m    118\u001b[0m   \u001b[0;32mif\u001b[0m \u001b[0mephemeral\u001b[0m\u001b[0;34m:\u001b[0m\u001b[0;34m\u001b[0m\u001b[0;34m\u001b[0m\u001b[0m\n\u001b[1;32m    119\u001b[0m     _message.blocking_request(\n\u001b[0;32m--> 120\u001b[0;31m         'request_auth', request={'authType': 'dfs_ephemeral'}, timeout_sec=None)\n\u001b[0m\u001b[1;32m    121\u001b[0m \u001b[0;34m\u001b[0m\u001b[0m\n\u001b[1;32m    122\u001b[0m   \u001b[0mmountpoint\u001b[0m \u001b[0;34m=\u001b[0m \u001b[0m_os\u001b[0m\u001b[0;34m.\u001b[0m\u001b[0mpath\u001b[0m\u001b[0;34m.\u001b[0m\u001b[0mexpanduser\u001b[0m\u001b[0;34m(\u001b[0m\u001b[0mmountpoint\u001b[0m\u001b[0;34m)\u001b[0m\u001b[0;34m\u001b[0m\u001b[0;34m\u001b[0m\u001b[0m\n",
            "\u001b[0;32m/usr/local/lib/python3.7/dist-packages/google/colab/_message.py\u001b[0m in \u001b[0;36mblocking_request\u001b[0;34m(request_type, request, timeout_sec, parent)\u001b[0m\n\u001b[1;32m    169\u001b[0m   request_id = send_request(\n\u001b[1;32m    170\u001b[0m       request_type, request, parent=parent, expect_reply=True)\n\u001b[0;32m--> 171\u001b[0;31m   \u001b[0;32mreturn\u001b[0m \u001b[0mread_reply_from_input\u001b[0m\u001b[0;34m(\u001b[0m\u001b[0mrequest_id\u001b[0m\u001b[0;34m,\u001b[0m \u001b[0mtimeout_sec\u001b[0m\u001b[0;34m)\u001b[0m\u001b[0;34m\u001b[0m\u001b[0;34m\u001b[0m\u001b[0m\n\u001b[0m",
            "\u001b[0;32m/usr/local/lib/python3.7/dist-packages/google/colab/_message.py\u001b[0m in \u001b[0;36mread_reply_from_input\u001b[0;34m(message_id, timeout_sec)\u001b[0m\n\u001b[1;32m    100\u001b[0m         reply.get('colab_msg_id') == message_id):\n\u001b[1;32m    101\u001b[0m       \u001b[0;32mif\u001b[0m \u001b[0;34m'error'\u001b[0m \u001b[0;32min\u001b[0m \u001b[0mreply\u001b[0m\u001b[0;34m:\u001b[0m\u001b[0;34m\u001b[0m\u001b[0;34m\u001b[0m\u001b[0m\n\u001b[0;32m--> 102\u001b[0;31m         \u001b[0;32mraise\u001b[0m \u001b[0mMessageError\u001b[0m\u001b[0;34m(\u001b[0m\u001b[0mreply\u001b[0m\u001b[0;34m[\u001b[0m\u001b[0;34m'error'\u001b[0m\u001b[0;34m]\u001b[0m\u001b[0;34m)\u001b[0m\u001b[0;34m\u001b[0m\u001b[0;34m\u001b[0m\u001b[0m\n\u001b[0m\u001b[1;32m    103\u001b[0m       \u001b[0;32mreturn\u001b[0m \u001b[0mreply\u001b[0m\u001b[0;34m.\u001b[0m\u001b[0mget\u001b[0m\u001b[0;34m(\u001b[0m\u001b[0;34m'data'\u001b[0m\u001b[0;34m,\u001b[0m \u001b[0;32mNone\u001b[0m\u001b[0;34m)\u001b[0m\u001b[0;34m\u001b[0m\u001b[0;34m\u001b[0m\u001b[0m\n\u001b[1;32m    104\u001b[0m \u001b[0;34m\u001b[0m\u001b[0m\n",
            "\u001b[0;31mMessageError\u001b[0m: Error: credential propagation was unsuccessful"
          ]
        }
      ]
    },
    {
      "cell_type": "code",
      "execution_count": null,
      "metadata": {
        "id": "IPvI4TRHJaYt"
      },
      "outputs": [],
      "source": [
        "# json파일 dataframe으로 읽기\n",
        "df=pd.read_json('/content/drive/MyDrive/data.json') \n",
        "len(df.columns)"
      ]
    },
    {
      "cell_type": "code",
      "execution_count": null,
      "metadata": {
        "id": "9QenfkkkslKe"
      },
      "outputs": [],
      "source": [
        "# 행,열 변환\n",
        "df=df.transpose() \n",
        "df.head(3)"
      ]
    },
    {
      "cell_type": "code",
      "execution_count": null,
      "metadata": {
        "id": "wERJA_U0srEy"
      },
      "outputs": [],
      "source": [
        "# 지금 행의 index가 \"http ...\" 을 0,1,2 숫자로 변경\n",
        "df.reset_index(drop=True, inplace=True)\n",
        "df.head(3)"
      ]
    },
    {
      "cell_type": "code",
      "execution_count": null,
      "metadata": {
        "id": "3T1IKk_64iPm"
      },
      "outputs": [],
      "source": [
        "# 15개의 열 중에서 필요없는 열은 제거 (임의로 해놓은 것)\n",
        "df=df.drop(['http://www.w3.org/1999/02/22-rdf-syntax-ns#type',\n",
        "         'http://www.aihub.or.kr/kb/law/sentence',\n",
        "         'http://www.aihub.or.kr/kb/law/courtName',\n",
        "         'http://www.aihub.or.kr/kb/law/sentenceDate',\n",
        "         'http://www.aihub.or.kr/kb/law/judgementType',\n",
        "         'http://www.aihub.or.kr/kb/law/precedentNumber',\n",
        "         'http://www.aihub.or.kr/kb/law/caseType',\n",
        "         'http://www.w3.org/2000/01/rdf-schema#label'\n",
        "         ], axis='columns') \n",
        "df.columns"
      ]
    },
    {
      "cell_type": "code",
      "execution_count": null,
      "metadata": {
        "id": "6RXAO00F4jVI"
      },
      "outputs": [],
      "source": [
        "# 열 이름 알아보기 쉽게 수정\n",
        "df=df.rename(columns={'http://www.aihub.or.kr/kb/law/caseNumber':'caseNumber',\n",
        "                      'http://www.aihub.or.kr/kb/law/caseName': 'caseName',\n",
        "                      'http://www.aihub.or.kr/kb/law/judgementAbstract': 'judgementAbstract',\n",
        "                      'http://www.aihub.or.kr/kb/law/refArticle': 'refArticle',\n",
        "                      'http://www.aihub.or.kr/kb/law/precedentText': 'precedentText',\n",
        "                      'http://www.aihub.or.kr/kb/law/judgementNote': 'judgementNote',\n",
        "                      'http://www.aihub.or.kr/kb/law/refPrecedent': 'refPrecedent'})\n",
        "df.columns"
      ]
    },
    {
      "cell_type": "code",
      "execution_count": null,
      "metadata": {
        "id": "9QOc_Jh3g0Si"
      },
      "outputs": [],
      "source": [
        "# Nan 값을 \"\"로 채우기 (참조판례가 Nan인 경우가 있음)\n",
        "df=df.fillna(\"\")\n",
        "df.head(3)"
      ]
    },
    {
      "cell_type": "code",
      "execution_count": null,
      "metadata": {
        "id": "I0pmXumc7M--"
      },
      "outputs": [],
      "source": [
        "# 현재는 dataframe 값이 list[dict,dict...]\n",
        "# dict{'type', 'value'}에서 value 값만 뽑아서 dataframe 값에 넣기\n",
        "# 참고로 list 안에 dict가 여러개 인 경우도 있음\n",
        "for i in df.index:\n",
        " #print(df.loc[i].index)\n",
        "  for j in range(len(df.loc[i].index)):\n",
        "    # list안에 dict가 1개일 때\n",
        "    if len(df.loc[i, df.loc[i].index[j]]) == 1:\n",
        "      df.loc[i, df.loc[i].index[j]] = df.loc[i, df.loc[i].index[j]][0]['value']\n",
        "    # list안에 dict가 여러개 일 때\n",
        "    elif len(df.loc[i, df.loc[i].index[j]]) > 1:\n",
        "      # value값을 모아서 콤마로 구분하고 string으로 줄거임\n",
        "      text = ''\n",
        "      for k in df.loc[i, df.loc[i].index[j]]:\n",
        "        text += k['value'] + ','\n",
        "      # 마지막 콤마는 삭제 \n",
        "      text=text[:-1]\n",
        "      df.loc[i, df.loc[i].index[j]] = text\n",
        "\n",
        "\n"
      ]
    },
    {
      "cell_type": "code",
      "execution_count": null,
      "metadata": {
        "id": "IYvMyQKggTvR"
      },
      "outputs": [],
      "source": [
        "df"
      ]
    },
    {
      "cell_type": "markdown",
      "metadata": {
        "id": "TLWylHCdAPyV"
      },
      "source": [
        "텍스트 전처리 과정"
      ]
    },
    {
      "cell_type": "markdown",
      "source": [],
      "metadata": {
        "id": "pdhWo7jhjJ5B"
      }
    },
    {
      "cell_type": "code",
      "execution_count": null,
      "metadata": {
        "id": "kU8L1IpuA5tt"
      },
      "outputs": [],
      "source": [
        "# 토큰화 - 형태소 분석기 사용\n",
        "\n",
        "# komoran 형태소 분석기 사용\n",
        "kom = Komoran()\n",
        "\n",
        "# NNG일반명사, NNP고유명사, VV동사 만 사용\n",
        "filter_kom = [\n",
        "              'NNG', #일반명사\n",
        "              'NNP', #고유명사\n",
        "              'VV' #동사\n",
        "]\n",
        "\n",
        "tokened_judgementNote = []\n",
        "\n",
        "for judgementNote in df['judgementNote']:\n",
        "  #형태소 분석만 함\n",
        "  #judgementNote = kom.morphs(judgementNote) \n",
        "\n",
        "  #형태소 분석하고 모든 품사까지 같이 넣음\n",
        "  #judgementNote = ['/'.join(word) for word in kom.pos(judgementNote)] \n",
        "\n",
        "  #형태소 분석하고 filter_kom에 있는 품사에 해당하면 넣음  \n",
        "  judgementNote = ['/'.join(word) for word in kom.pos(judgementNote) if word[1] in filter_kom] \n",
        "  \n",
        "  tokened_judgementNote.append(judgementNote)\n",
        "\n",
        "tokened_judgementNote[0]"
      ]
    },
    {
      "cell_type": "code",
      "execution_count": null,
      "metadata": {
        "id": "OdCZ_lCvGGtH"
      },
      "outputs": [],
      "source": [
        "# 여러가지 전처리 과정 필요함\n",
        "# 불용어 제거, 특수문자 제거, 등등등\n",
        "judgementNote = tokened_judgementNote"
      ]
    },
    {
      "cell_type": "code",
      "execution_count": null,
      "metadata": {
        "id": "Xbe1-Pg9NVXA"
      },
      "outputs": [],
      "source": [
        "# 리스트에서 각 문장부분 인덱싱?????\n",
        "index_judgementNote = []\n",
        "for i in range(len(df)):\n",
        "  index_judgementNote.append([judgementNote[i],i])"
      ]
    },
    {
      "cell_type": "code",
      "execution_count": null,
      "metadata": {
        "id": "iirk_gWeO25J"
      },
      "outputs": [],
      "source": [
        "index_judgementNote[:3]"
      ]
    },
    {
      "cell_type": "code",
      "execution_count": null,
      "metadata": {
        "id": "9_8zLST8PKZI"
      },
      "outputs": [],
      "source": [
        "# DOc2Vec에서 사용하는 태그문서형으로 변경\n",
        "tagged_judgementNote = [TaggedDocument(d, [int(c)]) for d,c in index_judgementNote]"
      ]
    },
    {
      "cell_type": "code",
      "execution_count": null,
      "metadata": {
        "id": "WDaWXIQNPcKm"
      },
      "outputs": [],
      "source": [
        "tagged_judgementNote[:3]"
      ]
    },
    {
      "cell_type": "markdown",
      "metadata": {
        "id": "jokWCFCwPjI2"
      },
      "source": [
        "모델 생성"
      ]
    },
    {
      "cell_type": "code",
      "execution_count": null,
      "metadata": {
        "id": "enHKRSHrPd-g"
      },
      "outputs": [],
      "source": [
        "    # make model\n",
        "import multiprocessing\n",
        "cores = multiprocessing.cpu_count()\n",
        "d2v_faqs = doc2vec.Doc2Vec(\n",
        "                                vector_size=200, #벡터 차원의 크기\n",
        "#                                 alpha=0.025,\n",
        "#                                 min_alpha=0.025,\n",
        "                                hs=1,\n",
        "                                negative=0,\n",
        "                                dm=0, #학습 방법 1=PV-DM, 0=PV-DBOW\n",
        "                                dbow_words = 1,\n",
        "                                min_count = 5, #학습에 사용할 최소 단어 빈도 수\n",
        "                                workers = cores,\n",
        "                                seed=0,\n",
        "                                epochs=20\n",
        "                                )\n",
        "\n",
        "d2v_faqs.build_vocab(tagged_judgementNote)\n",
        "\n",
        "d2v_faqs.train(tagged_judgementNote,\n",
        "               total_examples = d2v_faqs.corpus_count,\n",
        "               epochs = d2v_faqs.epochs\n",
        "                                )"
      ]
    },
    {
      "cell_type": "code",
      "execution_count": null,
      "metadata": {
        "id": "XRJEoS-dQSSC"
      },
      "outputs": [],
      "source": [
        "# 테스트하는 문장도 같은 전처리를 해준다.\n",
        "test = '방송사가 술에 취해 길에 쓰러졌던 40대 남자가 정신병원에 4년간이나 강제수용된 사실을 보도하면서, 정신보건법령상 제도의 운영상 문제점을 부각시키기 위하여 사실관계를 단순화시켜 그 일부 측면만을 강조하는 과정에서 취재된 정신병원의 사정을 방송 내용에 포함시키지 않았다 하더라도, 전체적인 맥락에서 방송 내용의 중요 부분이 진실에 합치함을 이유로 정정보도청구의 요건을 갖추지 못하였다고 한 사례'\n",
        "tokened_test = ['/'.join(word) for word in kom.pos(test)]\n",
        "\n",
        "test = tokened_test"
      ]
    },
    {
      "cell_type": "code",
      "execution_count": null,
      "metadata": {
        "id": "xHWj9aAaxjwz"
      },
      "outputs": [],
      "source": [
        "topn = 5\n",
        "test_vector = d2v_faqs.infer_vector(test)\n",
        "result_list = d2v_faqs.docvecs.most_similar([test_vector], topn=topn)\n",
        "\n",
        "for i in range(topn):\n",
        "  print(\"{}위. {}, {} {}\".format(i+1, result_list[i][1], result_list[i][0],df['judgementNote'][result_list[i][0]] ))"
      ]
    },
    {
      "cell_type": "code",
      "source": [
        "import os"
      ],
      "metadata": {
        "id": "uM__aC_LD_JY"
      },
      "execution_count": null,
      "outputs": []
    },
    {
      "cell_type": "code",
      "source": [
        "d2v_faqs.save(os.path.join('data','/content/drive/MyDrive/d2v_judge_size200_min5_epoch20.model'))"
      ],
      "metadata": {
        "id": "OpZkmJYLUkV1"
      },
      "execution_count": null,
      "outputs": []
    }
  ],
  "metadata": {
    "accelerator": "GPU",
    "colab": {
      "collapsed_sections": [],
      "provenance": [],
      "include_colab_link": true
    },
    "gpuClass": "standard",
    "kernelspec": {
      "display_name": "Python 3",
      "name": "python3"
    },
    "language_info": {
      "name": "python"
    }
  },
  "nbformat": 4,
  "nbformat_minor": 0
}